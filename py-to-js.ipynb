{
 "cells": [
  {
   "attachments": {},
   "cell_type": "markdown",
   "metadata": {},
   "source": [
    "***Here is a list of some JavaScript functions that can be related to functions in Python:***\n",
    "\n",
    "###### console.log() - similar to print() in Python;\n",
    "###### \n",
    "###### parseInt() - similar to int() in Python for converting a string to an integer;\n",
    "###### \n",
    "###### parseFloat() - similar to float() in Python for converting a string to a floating-point number;\n",
    "###### \n",
    "###### Math.round() - similar to round() in Python for rounding a number;\n",
    "###### \n",
    "###### Math.abs() - similar to abs() in Python for finding the absolute value of a number;\n",
    "###### \n",
    "###### Math.max() and Math.min() - similar to max() and min() in Python for finding the maximum and minimum values in a list or array;\n",
    "###### \n",
    "###### Array.push() - similar to append() in Python for adding an element to the end of a list;\n",
    "###### \n",
    "###### Array.pop() - similar to pop() in Python for removing an element from the end of a list;\n",
    "###### \n",
    "###### Array.shift() - similar to pop(0) in Python for removing an element from the beginning of a list;\n",
    "###### \n",
    "###### Array.unshift() - similar to insert(0, x) in Python for adding an element to the beginning of a list;\n",
    "\n",
    "*Note that these are just some of the most basic functions that can be related between Python and JavaScript, and there are many more functions in both languages that perform similar tasks.*\n",
    "\n",
    "\n",
    "\n"
   ]
  }
 ],
 "metadata": {
  "language_info": {
   "name": "python"
  },
  "orig_nbformat": 4
 },
 "nbformat": 4,
 "nbformat_minor": 2
}
